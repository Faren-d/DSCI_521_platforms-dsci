{
 "cells": [
  {
   "cell_type": "code",
   "execution_count": null,
   "metadata": {
    "deletable": false,
    "editable": false
   },
   "outputs": [],
   "source": [
    "# Initialize Otter\n",
    "import otter\n",
    "grader = otter.Notebook(\"lab1.ipynb\")"
   ]
  },
  {
   "cell_type": "code",
   "execution_count": null,
   "metadata": {},
   "outputs": [],
   "source": [
    "from hashlib import sha1"
   ]
  },
  {
   "cell_type": "markdown",
   "metadata": {
    "nbgrader": {
     "grade": false,
     "grade_id": "cell-db180de7c0f8d62a",
     "locked": true,
     "schema_version": 3,
     "solution": false
    }
   },
   "source": [
    "# DSCI 521 - Lab 1\n"
   ]
  },
  {
   "cell_type": "markdown",
   "metadata": {
    "nbgrader": {
     "grade": false,
     "grade_id": "cell-698a6330449e9ed6",
     "locked": true,
     "schema_version": 3,
     "solution": false
    }
   },
   "source": [
    "## Submission Instructions \n",
    "rubric={mechanics:4}\n",
    "\n",
    "As you can see in the \"rubric\" line above, you can receive 4 marks for correctly submitting this assignment by following these instructions after answering all the questions:\n",
    "    \n",
    "- [Follow the general lab instructions](https://ubc-mds.github.io/resources_pages/general_lab_instructions/).\n",
    "- [Click here to view a description of the rubrics used to grade the questions](https://github.com/UBC-MDS/public/tree/master/rubric).\n",
    "- Push your `.ipynb` file to your GitHub repository for this lab.\n",
    "- Submit your `.ipynb` file to Gradescope.\n",
    "- Include a clickable link to your GitHub repo for the lab just below this cell (it should look something like this https://github.ubc.ca/MDS-2024-25/DSCI_521_labX_yourcwl.\n",
    "- Don't forget to commit 3 times (covered in lecture 2) and also push your work to GitHub.\n"
   ]
  },
  {
   "cell_type": "markdown",
   "metadata": {
    "deletable": false,
    "editable": false
   },
   "source": [
    "## 1 Warm up activity\n",
    "\n",
    "First, let's become familiar with the vocabulary. "
   ]
  },
  {
   "cell_type": "code",
   "execution_count": null,
   "metadata": {
    "tags": []
   },
   "outputs": [],
   "source": [
    "...\n",
    "\n",
    "### You have to complete the exercise adding the number of definition that match. For example: Z = 23\n",
    "\n",
    "A\n",
    "B\n",
    "C\n",
    "D\n",
    "E\n",
    "F\n",
    "G\n",
    "H\n",
    "I\n",
    "J\n",
    "K\n",
    "L\n",
    "M\n",
    "N\n"
   ]
  },
  {
   "cell_type": "code",
   "execution_count": null,
   "metadata": {
    "deletable": false,
    "editable": false
   },
   "outputs": [],
   "source": [
    "grader.check(\"q11\")"
   ]
  },
  {
   "cell_type": "markdown",
   "metadata": {
    "deletable": false,
    "editable": false
   },
   "source": [
    "<!-- BEGIN QUESTION -->\n",
    "\n",
    "### Question 1.2\n",
    "rubric={autograder:2}\n",
    "    \n",
    "Select the pairs that match. If you are unsure you can check [The Carpentries Glosario](https://glosario.carpentries.org/en/) to read the full description of each item.\n",
    "\n",
    "\n",
    "|                              | Symbol              |\n",
    "|------------------------------|---------------------|\n",
    "| A. Root directory (see note) | 1. `$`              |\n",
    "| B. Parent directory          | 2. `.`              |\n",
    "| C. Current working directory | 3. `..`             |\n",
    "| D. Home directory            | 4.  `/`             |\n",
    "| E. Command line argument     | 5. `~`              |\n",
    "| F. Prompt (R)                | 6.  `-y` or `--yes` |\n",
    "| G. Prompt (Python)           | 7. `>>>`            |\n",
    "| H. Prompt (Bash)             | 8. `>`              |\n",
    "\n",
    "* Note: Notice that there are two meanings for the `/` character. When it appears inside a path, it’s just a separator.\n"
   ]
  },
  {
   "cell_type": "code",
   "execution_count": null,
   "metadata": {
    "tags": [
     "solution"
    ]
   },
   "outputs": [],
   "source": [
    "...\n",
    "\n",
    "### You have to complete the exercise adding the number of definition that match. For example: Z = 23\n",
    "\n",
    "A\n",
    "B\n",
    "C\n",
    "D\n",
    "E\n",
    "F\n",
    "G\n",
    "H\n"
   ]
  },
  {
   "cell_type": "code",
   "execution_count": null,
   "metadata": {
    "deletable": false,
    "editable": false
   },
   "outputs": [],
   "source": [
    "grader.check(\"q12\")"
   ]
  },
  {
   "cell_type": "markdown",
   "metadata": {
    "deletable": false,
    "editable": false,
    "nbgrader": {
     "grade": false,
     "grade_id": "cell-497d0f31c41ec653",
     "locked": true,
     "schema_version": 3,
     "solution": false
    }
   },
   "source": [
    "<!-- END QUESTION -->\n",
    "\n",
    "## 2. Using the command line to navigate your filesystem\n",
    "\n",
    "Below are some questions to check-in on your understanding of the 3 key commands we need to navigate your filesystem (`cd`, `ls` and `pwd`), as well as some other concepts that are needed to succesfully do this."
   ]
  },
  {
   "cell_type": "markdown",
   "metadata": {
    "deletable": false,
    "editable": false
   },
   "source": [
    "<!-- BEGIN QUESTION -->\n",
    "\n",
    "### Question 2.1\n",
    "rubric={reasoning:1}\n",
    "\n",
    "With your own words and in 1-2 sentences, describe what the `cd` command does.\n",
    "If there is a default behaviour for this command (behaviour when no argument is given), also describe that."
   ]
  },
  {
   "cell_type": "markdown",
   "metadata": {},
   "source": [
    "_Type your answer here, replacing this text._"
   ]
  },
  {
   "cell_type": "markdown",
   "metadata": {
    "deletable": false,
    "editable": false
   },
   "source": [
    "<!-- END QUESTION -->\n",
    "\n",
    "<!-- BEGIN QUESTION -->\n",
    "\n",
    "### Question 2.2\n",
    "rubric={reasoning:1}\n",
    "\n",
    "With your own words and in 1-2 sentences, describe what the `pwd` command does. If there is a default behaviour for this command (behaviour when no argument is given), also describe that."
   ]
  },
  {
   "cell_type": "markdown",
   "metadata": {},
   "source": [
    "_Type your answer here, replacing this text._"
   ]
  },
  {
   "cell_type": "markdown",
   "metadata": {
    "deletable": false,
    "editable": false,
    "nbgrader": {
     "grade": false,
     "grade_id": "cell-3fdebe545e38845f",
     "locked": true,
     "schema_version": 3,
     "solution": false
    }
   },
   "source": [
    "<!-- END QUESTION -->\n",
    "\n",
    "<!-- BEGIN QUESTION -->\n",
    "\n",
    "### Question 2.3\n",
    "rubric={reasoning:1}\n",
    "\n",
    "With your own words and in 1-2 sentences, describe what the `ls` command does. If there is a default behaviour for this command (behaviour when no argument is given), also describe that.\n"
   ]
  },
  {
   "cell_type": "markdown",
   "metadata": {},
   "source": [
    "_Type your answer here, replacing this text._"
   ]
  },
  {
   "cell_type": "markdown",
   "metadata": {
    "deletable": false,
    "editable": false,
    "nbgrader": {
     "grade": false,
     "grade_id": "cell-e834dbb0f6a34960",
     "locked": true,
     "schema_version": 3,
     "solution": false
    }
   },
   "source": [
    "<!-- END QUESTION -->\n",
    "\n",
    "### Question 2.4\n",
    "rubric={autograde:1}\n",
    "\n",
    "If `pwd` results in `/Users/tiffany/data/`, which of the following commands could Tiffany use to navigate to her home directory, which is `/Users/tiffany`?\n",
    "\n",
    "A. `cd .`\n",
    "\n",
    "B. `cd /`\n",
    "\n",
    "C. `cd tiffany`\n",
    "\n",
    "D. `cd ..`\n",
    "\n",
    "    \n",
    "*Assign your answer to an object called `answer_14`. Make sure your answer is an uppercase letter and is surrounded by quotation marks (e.g. `\"F\"`).*"
   ]
  },
  {
   "cell_type": "code",
   "execution_count": null,
   "metadata": {
    "tags": []
   },
   "outputs": [],
   "source": [
    "...\n",
    "answer_14"
   ]
  },
  {
   "cell_type": "code",
   "execution_count": null,
   "metadata": {
    "deletable": false,
    "editable": false
   },
   "outputs": [],
   "source": [
    "grader.check(\"q24\")"
   ]
  },
  {
   "cell_type": "markdown",
   "metadata": {
    "deletable": false,
    "editable": false,
    "nbgrader": {
     "grade": false,
     "grade_id": "cell-410f4bda423465c1",
     "locked": true,
     "schema_version": 3,
     "solution": false
    }
   },
   "source": [
    "### Question 2.5\n",
    "rubric={autograde:1}\n",
    "\n",
    "Using the filesystem diagram below, if `pwd` displays `/Users/backup/`, what will `ls ..` display?\n",
    "\n",
    "A. `..: No such file or directory`\n",
    "\n",
    "B. `thing/ backup/`\n",
    "\n",
    "C. `Users/`\n",
    "\n",
    "D. `original/ pnas_final/ pnas_sub/`\n",
    "    \n",
    "*Assign your answer to an object called `answer_15`. Make sure your answer is an uppercase letter and is surrounded by quotation marks (e.g. `\"F\"`).*"
   ]
  },
  {
   "cell_type": "markdown",
   "metadata": {
    "deletable": false,
    "editable": false,
    "nbgrader": {
     "grade": false,
     "grade_id": "cell-8b8e30d5c2306e97",
     "locked": true,
     "schema_version": 3,
     "solution": false
    }
   },
   "source": [
    "![](imgs/filesystem-challenge.jpg)"
   ]
  },
  {
   "cell_type": "code",
   "execution_count": null,
   "metadata": {
    "tags": []
   },
   "outputs": [],
   "source": [
    "...\n",
    "answer_15"
   ]
  },
  {
   "cell_type": "code",
   "execution_count": null,
   "metadata": {
    "deletable": false,
    "editable": false
   },
   "outputs": [],
   "source": [
    "grader.check(\"q25\")"
   ]
  },
  {
   "cell_type": "markdown",
   "metadata": {
    "deletable": false,
    "editable": false
   },
   "source": [
    "<!-- BEGIN QUESTION -->\n",
    "\n",
    "### Question 2.6\n",
    "rubric={reasoning:2}\n",
    "    \n",
    "After running the command `pwd` we get the following output: `C:/Users/Florencia/dashboards`. Complete the table below with the equivalent command but using an absolute path. The first row is complete as an example:\n",
    "\n",
    "| Relative path              | Absolute path                                 |\n",
    "|----------------------------|-----------------------------------------------|\n",
    "| `cd shiny-app`             | 1.  `cd /Users/Florencia/dashboard/shiny-app` |\n",
    "| `cd ../../Varada/571-labs` | 2. `cd`                                       |\n",
    "| `cd ..`                    | 3. `cd`                                       |\n",
    "| `cd `                      | 4. `cd`                                       |\n",
    "| `cd /`                     | 5. `cd`                                       |\n",
    "| `cd ~/notes`               | 6. `cd`                                       |\n",
    "| `cd ~/..`                  | 7. `cd`                                       |\n",
    "| `cd ~/../../Data/mds_2022` | 8. `cd`                                       |\n",
    "\n",
    "![](imgs/diagram-files-activity.png)\n",
    "\n",
    "\n",
    "You can check [The Carpentries Glosario](https://glosario.carpentries.org/en/) to learn about more terms or to read the full description of each item."
   ]
  },
  {
   "cell_type": "markdown",
   "metadata": {},
   "source": [
    "_Type your answer here, replacing this text._"
   ]
  },
  {
   "cell_type": "markdown",
   "metadata": {
    "deletable": false,
    "editable": false
   },
   "source": [
    "<!-- END QUESTION -->\n",
    "\n",
    "# Before starting: setting your SSH keys\n",
    "rubric={mechanics:2}\n",
    "\n",
    "Follow the instructions on [how to setup SSH authentication with GitHub for your operating system](https://docs.github.com/en/free-pro-team@latest/github/authenticating-to-github/generating-a-new-ssh-key-and-adding-it-to-the-ssh-agent).\n",
    "\n",
    "When you have setup your keys, run ssh -T `git@github.ubc.ca` from a terminal. If the message says that you have successfully authenticated take a screenshot of your terminal showing both the input and the output and paste it below this cell. It should look similar to this:\n",
    "\n",
    "![](imgs/ssh-login.png)\n",
    "\n",
    "Type `git remote -v` in your local repo folder and take note of what URLs. Next, create a new folder on your computer and clone your lab repo into this folder using the SSH instead of HTTPS. In your new folder, type `git remote -v`. Paste the URLs of the SSH and HTTPS remotes below and explain how they differ."
   ]
  },
  {
   "cell_type": "markdown",
   "metadata": {},
   "source": [
    "\n",
    "## 3. Git and GitHub\n",
    "\n",
    "In class we introduced Git and GitHub to access, log changes, and submit your homework. Below are some multiple choice questions to check-in on your understanding of the key commands needed to do this (`clone`, `add`, `commit`, `push` and `pull`), as well other key concepts."
   ]
  },
  {
   "cell_type": "markdown",
   "metadata": {
    "deletable": false,
    "editable": false
   },
   "source": [
    "### Question 3.1\n",
    "rubric={autograde:6}\n",
    "\n",
    "Now you know the basics of the Git/GitHub workflows!\n",
    "\n",
    "In this assignment you are going to create a repository and interact with it.\n",
    "We suggest you to do so to practice the steps at the same time you answer the questions.\n",
    "\n",
    "First, let's to match some of the new terms we have learned through this chapter with a related concept/word.\n",
    "Assign the variable the corresponding lower-case letter.\n",
    "\n",
    "|                                   | related concept / word |\n",
    "|-----------------------------------|------------------------|\n",
    "| one. Git repository               | a. The staging area    |\n",
    "| two. Remote repository location   | b. `.git` folder       |\n",
    "| three. Git add                    | c. `git pull`          |\n",
    "| four. Clone a repository          | d. GitHub              |\n",
    "| five. Update the local repository | e. SSH keys            |\n",
    "\n",
    "Complete the following sentences selecting one of the following options.\n",
    "Assign the variable the provided string.\n",
    "\n",
    "- **If you are working on the remote you are using [six].**\n",
    "    - git\n",
    "    - github\n",
    "    - jupyterlab\n",
    "    - the terminal\n",
    "<br /><br />\n",
    "\n",
    "- **One of the benefits of using version control is that you can [seven].**\n",
    "    - open your files using VS Code\n",
    "    - have a back up of your code\n",
    "    - track the history of your project\n",
    "<br /><br />\n",
    "\n",
    "- **The expression \"[eight] to GitHub\" is referring to the step when you update the GitHub repository with the local changes.**\n",
    "    - pulling\n",
    "    - pushing\n",
    "    - cloning \n",
    "<br /><br />\n",
    "\n",
    "- **You record a new version of your project each time you [nine] your changes.**\n",
    "    - commit\n",
    "    - stage\n",
    "    - push\n",
    "    - clone\n",
    "<br /><br />\n",
    "\n",
    "- **The HASH is a string of characters that serves as [ten].**\n",
    "    - commit identifier\n",
    "    - Git repository identifier\n",
    "    - commit message\n",
    "<br /><br />\n",
    "\n",
    "- **If you create a new file into a Git repository, its status will be [eleven].**\n",
    "    - changed\n",
    "    - untracked\n",
    "    - staged\n",
    "    - committed\n",
    "<br /><br />\n",
    "\n",
    "- **If you want to check how many files do you have in the staging area you have to run the command [twelve].**\n",
    "    - git add\n",
    "    - git status\n",
    "    - git log\n",
    "    - git commit\n",
    "<br /><br />\n",
    "\n",
    "*Assign your answer to an object called `one`. Make sure your answer is a lowercase letter/word and is surrounded by quotation marks (e.g. `\"b\"` or `\"git pull\"`)."
   ]
  },
  {
   "cell_type": "code",
   "execution_count": null,
   "metadata": {
    "tags": []
   },
   "outputs": [],
   "source": [
    "...\n",
    "\n",
    "one\n",
    "two\n",
    "three\n",
    "four\n",
    "five\n",
    "six\n",
    "seven\n",
    "eight\n",
    "nine\n",
    "ten\n",
    "eleven\n",
    "twelve\n"
   ]
  },
  {
   "cell_type": "code",
   "execution_count": null,
   "metadata": {
    "deletable": false,
    "editable": false
   },
   "outputs": [],
   "source": [
    "grader.check(\"q31\")"
   ]
  },
  {
   "cell_type": "markdown",
   "metadata": {
    "deletable": false,
    "editable": false
   },
   "source": [
    "### Question 3.2\n",
    "rubric={reasoning:1}\n",
    "\n",
    "With your own words and in 1-2 sentences, explain why you should use `git clone` to get a copy of your homework (or other Git repositories) from GitHub as opposed to clicking on the \"Download ZIP\" link."
   ]
  },
  {
   "cell_type": "markdown",
   "metadata": {
    "deletable": false,
    "editable": false
   },
   "source": [
    "### Question 3.3\n",
    "rubric={autograde:1}\n",
    "\n",
    "Which command(s) below would save the changes of `README.md` to my local Git repository?\n",
    " \n",
    "A.<br>\n",
    "`git init README.md`<br>\n",
    "`git commit -m \"Add authors and copyright\"`<br><br>\n",
    "\n",
    "B.<br>\n",
    "`git commit -m \"Add authors and copyright\"`<br><br>\n",
    "\n",
    "C.<br>\n",
    "`git add README.md`<br>\n",
    "`git commit -m \"Add authors and copyright\"`<br><br>\n",
    "\n",
    "D.<br>\n",
    "`git commit -m README.md \"Add authors and copyright\"`<br>\n",
    "\n",
    "*Assign your answer to an object called `answer_33`. Make sure your answer is an uppercase letter and is surrounded by quotation marks (e.g. `\"F\"`).* "
   ]
  },
  {
   "cell_type": "code",
   "execution_count": null,
   "metadata": {
    "tags": []
   },
   "outputs": [],
   "source": [
    "...\n",
    "answer_33"
   ]
  },
  {
   "cell_type": "code",
   "execution_count": null,
   "metadata": {
    "deletable": false,
    "editable": false
   },
   "outputs": [],
   "source": [
    "grader.check(\"q33\")"
   ]
  },
  {
   "cell_type": "markdown",
   "metadata": {
    "deletable": false,
    "editable": false
   },
   "source": [
    "### Question 3.4\n",
    "rubric={reasoning:1}\n",
    "\n",
    "With your own words and in 1-2 sentences, compare and contrast `git pull` and `git push`."
   ]
  },
  {
   "cell_type": "markdown",
   "metadata": {
    "deletable": false,
    "editable": false
   },
   "source": [
    "### Question 3.5\n",
    "rubric={autograde:1}\n",
    "\n",
    "When working on a project that is under version control (*e.g.,* MDS homework/labs) you should `commit` to you local Git repository:\n",
    "\n",
    "A. after every new unit/addition/fix you add to the project\n",
    "\n",
    "B. 2-3 times\n",
    "\n",
    "C. only once, shortly before the deadline\n",
    "\n",
    "D. obsessively, like every 5 minutes\n",
    "    \n",
    "*Assign your answer to an object called `answer_35`. Make sure your answer is an uppercase letter and is surrounded by quotation marks (e.g. `\"F\"`).*"
   ]
  },
  {
   "cell_type": "code",
   "execution_count": null,
   "metadata": {
    "tags": []
   },
   "outputs": [],
   "source": [
    "...\n",
    "answer_35"
   ]
  },
  {
   "cell_type": "code",
   "execution_count": null,
   "metadata": {
    "deletable": false,
    "editable": false
   },
   "outputs": [],
   "source": [
    "grader.check(\"q35\")"
   ]
  },
  {
   "cell_type": "markdown",
   "metadata": {
    "deletable": false,
    "editable": false
   },
   "source": [
    "### Question 3.6\n",
    "rubric={autograde:1}\n",
    "\n",
    "When working on a project that is under version control (*e.g.,* MDS homework/labs) you should `push` to online GitHub repository:\n",
    "\n",
    "A. obsessively, like every 5 minutes\n",
    "\n",
    "B. at least at the end of every session you work on the project\n",
    "\n",
    "C. 2-3 times\n",
    "\n",
    "D. only once, shortly before the deadline\n",
    "    \n",
    "*Assign your answer to an object called `answer_36`. Make sure your answer is an uppercase letter and is surrounded by quotation marks (e.g. `\"F\"`).*"
   ]
  },
  {
   "cell_type": "code",
   "execution_count": null,
   "metadata": {
    "tags": []
   },
   "outputs": [],
   "source": [
    "...\n",
    "answer_36"
   ]
  },
  {
   "cell_type": "code",
   "execution_count": null,
   "metadata": {
    "deletable": false,
    "editable": false
   },
   "outputs": [],
   "source": [
    "grader.check(\"q36\")"
   ]
  },
  {
   "cell_type": "markdown",
   "metadata": {
    "deletable": false,
    "editable": false
   },
   "source": [
    "<!-- BEGIN QUESTION -->\n",
    "\n",
    "### Question 3.7\n",
    "\n",
    "#### Extra: Git + Globbing\n",
    "rubric={reasoning:4.5}\n",
    "    \n",
    "In the past chapter we have learn how to use the shell. If you are using Git through the terminal you can benefit from from globbing and some of the operators we learned there.\n",
    "\n",
    "Let's say that you have this files with changes on your GitHub repository:\n",
    "\n",
    "```\n",
    "2022-03-02_vancouver_site1.csv\n",
    "2022-03-04_vancouver_site2.csv\n",
    "2022-05-20_okenagan_site55.csv\n",
    "```\n",
    "\n",
    "but you only want to commit the changes in the files that say \"Vancouver\" as you are still waiting information to complete the last file with the data from Okenagan.\n",
    "\n",
    "Select the correct answers (more than one option could be correct)\n",
    "\n",
    "1 - How would you add to the staging area all the files including the word \"vancouver\" using the command line? Select all the correct answers.\n",
    "\n",
    "A. `git add .`  \n",
    "B. `git add 2022-03-02_vancouver_site1.csv 2022-03-02_vancouver_site2.csv`  \n",
    "C. `git add *vancouver*`  \n",
    "D.   \n",
    "`git add 2022-03-02_vancouver_site1.csv`    \n",
    "`git add 2022-03-02_vancouver_site2.csv`  \n",
    "\n",
    "2 - From all the correct answers, which one you consider it would be more appropiate to use if instead of 3 files you would have 500 files?"
   ]
  },
  {
   "cell_type": "markdown",
   "metadata": {},
   "source": [
    "YOUR ANSWER GOES IN THIS CELL\n",
    "\n",
    "(paste your log as per the instructions above)"
   ]
  },
  {
   "cell_type": "markdown",
   "metadata": {
    "deletable": false,
    "editable": false
   },
   "source": [
    "<!-- END QUESTION -->\n",
    "\n",
    "---\n",
    "\n",
    "# Submission \n",
    "\n",
    "When you are ready to submit your assignment do the following:\n",
    "\n",
    "1. Run all cells in your notebook to make sure there are no errors by doing `Kernel -> Restart Kernel and Run All Cells...`\n",
    "2. Enter Canvas and upload the assignment using Gradescope's drag and drop tool.\n",
    "3. Don't forget to commit 3 times and also push your work to GitHub.\n",
    "\n",
    "Remember that you will find a detailed set of instructions including videos on [Canvas](https://canvas.ubc.ca/courses/102033)."
   ]
  },
  {
   "cell_type": "markdown",
   "metadata": {},
   "source": [
    "### Attribution\n",
    "\n",
    "- [Data 8: The Foundations of Data Science](http://data8.org/), specifically Lab 01\n",
    "- [Software Carpentry](https://software-carpentry.org/), the Unix Shell lesson.\n",
    "- [Library Carpentry: Introduction to Working with Data (Regular Expressions)](https://librarycarpentry.org/lc-data-intro/)\n",
    "- [Glossary - The Carpentries](https://glosario.carpentries.org/en/)"
   ]
  }
 ],
 "metadata": {
  "celltoolbar": "Create Assignment",
  "kernelspec": {
   "display_name": "Python 3 (ipykernel)",
   "language": "python",
   "name": "python3"
  },
  "language_info": {
   "codemirror_mode": {
    "name": "ipython",
    "version": 3
   },
   "file_extension": ".py",
   "mimetype": "text/x-python",
   "name": "python",
   "nbconvert_exporter": "python",
   "pygments_lexer": "ipython3",
   "version": "3.12.4"
  },
  "otter": {
   "OK_FORMAT": true,
   "tests": {
    "q11": {
     "name": "q11",
     "points": 3.5,
     "suites": [
      {
       "cases": [
        {
         "code": ">>> assert sha1(str(A).encode('utf8')).hexdigest() == 'fe5dbbcea5ce7e2988b8c69bcfdfde8904aabc1f', 'A is the definition 8'\n",
         "hidden": false,
         "locked": false
        },
        {
         "code": ">>> assert sha1(str(B).encode('utf8')).hexdigest() == '17ba0791499db908433b80f37c5fbc89b870084b', 'B is the definition 11'\n",
         "hidden": false,
         "locked": false
        },
        {
         "code": ">>> assert sha1(str(C).encode('utf8')).hexdigest() == '356a192b7913b04c54574d18c28d46e6395428ab', 'C is the definition 1'\n",
         "hidden": false,
         "locked": false
        },
        {
         "code": ">>> assert sha1(str(D).encode('utf8')).hexdigest() == 'c1dfd96eea8cc2b62785275bca38ac261256e278', 'D is the definition 6'\n",
         "hidden": false,
         "locked": false
        },
        {
         "code": ">>> assert sha1(str(E).encode('utf8')).hexdigest() == '902ba3cda1883801594b6e1b452790cc53948fda', 'E is the definition 7'\n",
         "hidden": false,
         "locked": false
        },
        {
         "code": ">>> assert sha1(str(F).encode('utf8')).hexdigest() == 'bd307a3ec329e10a2cff8fb87480823da114f8f4', 'F is the definition 13'\n",
         "hidden": false,
         "locked": false
        },
        {
         "code": ">>> assert sha1(str(G).encode('utf8')).hexdigest() == '7b52009b64fd0a2a49e6d8a939753077792b0554', 'G is the definition 12'\n",
         "hidden": false,
         "locked": false
        },
        {
         "code": ">>> assert sha1(str(H).encode('utf8')).hexdigest() == '1b6453892473a467d07372d45eb05abc2031647a', 'H is the definition 4'\n",
         "hidden": false,
         "locked": false
        },
        {
         "code": ">>> assert sha1(str(I).encode('utf8')).hexdigest() == 'fa35e192121eabf3dabf9f5ea6abdbcbc107ac3b', 'I is the definition 14'\n",
         "hidden": false,
         "locked": false
        },
        {
         "code": ">>> assert sha1(str(J).encode('utf8')).hexdigest() == 'b1d5781111d84f7b3fe45a0852e59758cd7a87e5', 'J is the definition 10'\n",
         "hidden": false,
         "locked": false
        },
        {
         "code": ">>> assert sha1(str(K).encode('utf8')).hexdigest() == 'ac3478d69a3c81fa62e60f5c3696165a4e5e6ac4', 'K is the definition 5'\n",
         "hidden": false,
         "locked": false
        },
        {
         "code": ">>> assert sha1(str(L).encode('utf8')).hexdigest() == 'da4b9237bacccdf19c0760cab7aec4a8359010b0', 'L is the definition 2'\n",
         "hidden": false,
         "locked": false
        },
        {
         "code": ">>> assert sha1(str(M).encode('utf8')).hexdigest() == '77de68daecd823babbb58edb1c8e14d7106e83bb', 'M is the definition 3'\n",
         "hidden": false,
         "locked": false
        },
        {
         "code": ">>> assert sha1(str(N).encode('utf8')).hexdigest() == '0ade7c2cf97f75d009975f4d720d1fa6c19f4897', 'N is the definition 9'\n",
         "hidden": false,
         "locked": false
        }
       ],
       "scored": true,
       "setup": "",
       "teardown": "",
       "type": "doctest"
      }
     ]
    },
    "q12": {
     "name": "q12",
     "points": null,
     "suites": [
      {
       "cases": [
        {
         "code": ">>> assert sha1(str(A).encode('utf8')).hexdigest() == '1b6453892473a467d07372d45eb05abc2031647a', 'A is the definition 4'\n",
         "hidden": false,
         "locked": false
        },
        {
         "code": ">>> assert sha1(str(B).encode('utf8')).hexdigest() == '77de68daecd823babbb58edb1c8e14d7106e83bb', 'B is the definition 3'\n",
         "hidden": false,
         "locked": false
        },
        {
         "code": ">>> assert sha1(str(C).encode('utf8')).hexdigest() == 'da4b9237bacccdf19c0760cab7aec4a8359010b0', 'C is the definition 2'\n",
         "hidden": false,
         "locked": false
        },
        {
         "code": ">>> assert sha1(str(D).encode('utf8')).hexdigest() == 'ac3478d69a3c81fa62e60f5c3696165a4e5e6ac4', 'D is the definition 5'\n",
         "hidden": false,
         "locked": false
        },
        {
         "code": ">>> assert sha1(str(E).encode('utf8')).hexdigest() == 'c1dfd96eea8cc2b62785275bca38ac261256e278', 'E is the definition 6'\n",
         "hidden": false,
         "locked": false
        },
        {
         "code": ">>> assert sha1(str(F).encode('utf8')).hexdigest() == 'fe5dbbcea5ce7e2988b8c69bcfdfde8904aabc1f', 'F is the definition 8'\n",
         "hidden": false,
         "locked": false
        },
        {
         "code": ">>> assert sha1(str(G).encode('utf8')).hexdigest() == '902ba3cda1883801594b6e1b452790cc53948fda', 'G is the definition 7'\n",
         "hidden": false,
         "locked": false
        },
        {
         "code": ">>> assert sha1(str(H).encode('utf8')).hexdigest() == '356a192b7913b04c54574d18c28d46e6395428ab', 'H is the definition 1'\n",
         "hidden": false,
         "locked": false
        }
       ],
       "scored": true,
       "setup": "",
       "teardown": "",
       "type": "doctest"
      }
     ]
    },
    "q24": {
     "name": "q24",
     "points": 1,
     "suites": [
      {
       "cases": [
        {
         "code": ">>> assert sha1(str(answer_14).encode('utf8')).hexdigest() == '50c9e8d5fc98727b4bbc93cf5d64a68db647f04f', 'Incorrect answer, try again!'\n",
         "hidden": false,
         "locked": false
        }
       ],
       "scored": true,
       "setup": "",
       "teardown": "",
       "type": "doctest"
      }
     ]
    },
    "q25": {
     "name": "q25",
     "points": 1,
     "suites": [
      {
       "cases": [
        {
         "code": ">>> assert sha1(str(answer_15).encode('utf8')).hexdigest() == 'ae4f281df5a5d0ff3cad6371f76d5c29b6d953ec', 'Incorrect answer, try again!'\n",
         "hidden": false,
         "locked": false
        }
       ],
       "scored": true,
       "setup": "",
       "teardown": "",
       "type": "doctest"
      }
     ]
    },
    "q31": {
     "name": "q31",
     "points": 6,
     "suites": [
      {
       "cases": [
        {
         "code": ">>> assert sha1(str(one).encode('utf8')).hexdigest() == 'e9d71f5ee7c92d6dc9e92ffdad17b8bd49418f98', 'Incorrect answer, try again!'\n",
         "hidden": false,
         "locked": false
        },
        {
         "code": ">>> assert sha1(str(two).encode('utf8')).hexdigest() == '3c363836cf4e16666669a25da280a1865c2d2874', 'Incorrect answer, try again!'\n",
         "hidden": false,
         "locked": false
        },
        {
         "code": ">>> assert sha1(str(three).encode('utf8')).hexdigest() == '86f7e437faa5a7fce15d1ddcb9eaeaea377667b8', 'Incorrect answer, try again!'\n",
         "hidden": false,
         "locked": false
        },
        {
         "code": ">>> assert sha1(str(four).encode('utf8')).hexdigest() == '58e6b3a414a1e090dfc6029add0f3555ccba127f', 'Incorrect answer, try again!'\n",
         "hidden": false,
         "locked": false
        },
        {
         "code": ">>> assert sha1(str(five).encode('utf8')).hexdigest() == '84a516841ba77a5b4648de2cd0dfcb30ea46dbb4', 'Incorrect answer, try again!'\n",
         "hidden": false,
         "locked": false
        },
        {
         "code": ">>> assert sha1(str(six).encode('utf8')).hexdigest() == '64b2b6d12bfe4baae7dad3d018f8cbf6b0e7a044', 'Incorrect answer, try again!'\n",
         "hidden": false,
         "locked": false
        },
        {
         "code": ">>> assert sha1(str(seven).encode('utf8')).hexdigest() == '36cab06ad781f49e411f1c9466d9084195d9e879', 'Incorrect answer, try again!'\n",
         "hidden": false,
         "locked": false
        },
        {
         "code": ">>> assert sha1(str(eight).encode('utf8')).hexdigest() == 'adb1108fc750116ee99e4222566325dd7775e96e', 'Incorrect answer, try again!'\n",
         "hidden": false,
         "locked": false
        },
        {
         "code": ">>> assert sha1(str(nine).encode('utf8')).hexdigest() == '4015b57a143aec5156fd1444a017a32137a3fd0f', 'Incorrect answer, try again!'\n",
         "hidden": false,
         "locked": false
        },
        {
         "code": ">>> assert sha1(str(ten).encode('utf8')).hexdigest() == 'b1939f502fce507a9616e97bd8749fed83da3b7a', 'Incorrect answer, try again!'\n",
         "hidden": false,
         "locked": false
        },
        {
         "code": ">>> assert sha1(str(eleven).encode('utf8')).hexdigest() == 'd7390aa3e7289506746a90490cae21f0dfa03b28', 'Incorrect answer, try again!'\n",
         "hidden": false,
         "locked": false
        },
        {
         "code": ">>> assert sha1(str(twelve).encode('utf8')).hexdigest() == 'f2a29f2b358f8a8bc56896bdca251ef93927330b', 'Incorrect answer, try again!'\n",
         "hidden": false,
         "locked": false
        }
       ],
       "scored": true,
       "setup": "",
       "teardown": "",
       "type": "doctest"
      }
     ]
    },
    "q33": {
     "name": "q33",
     "points": 1,
     "suites": [
      {
       "cases": [
        {
         "code": ">>> assert sha1(str(answer_33).encode('utf8')).hexdigest() == '32096c2e0eff33d844ee6d675407ace18289357d', 'Incorrect answer, try again!'\n",
         "hidden": false,
         "locked": false
        }
       ],
       "scored": true,
       "setup": "",
       "teardown": "",
       "type": "doctest"
      }
     ]
    },
    "q35": {
     "name": "q35",
     "points": 1,
     "suites": [
      {
       "cases": [
        {
         "code": ">>> assert sha1(str(answer_35).encode('utf8')).hexdigest() == '6dcd4ce23d88e2ee9568ba546c007c63d9131c1b', 'Incorrect answer, try again!'\n",
         "hidden": false,
         "locked": false
        }
       ],
       "scored": true,
       "setup": "",
       "teardown": "",
       "type": "doctest"
      }
     ]
    },
    "q36": {
     "name": "q36",
     "points": 1,
     "suites": [
      {
       "cases": [
        {
         "code": ">>> assert sha1(str(answer_36).encode('utf8')).hexdigest() == 'ae4f281df5a5d0ff3cad6371f76d5c29b6d953ec', 'Incorrect answer, try again!'\n",
         "hidden": false,
         "locked": false
        }
       ],
       "scored": true,
       "setup": "",
       "teardown": "",
       "type": "doctest"
      }
     ]
    }
   }
  },
  "vscode": {
   "interpreter": {
    "hash": "3d597f4c481aa0f25dceb95d2a0067e73c0966dcbd003d741d821a7208527ecf"
   }
  }
 },
 "nbformat": 4,
 "nbformat_minor": 4
}
