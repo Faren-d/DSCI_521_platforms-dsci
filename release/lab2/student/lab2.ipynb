{
 "cells": [
  {
   "cell_type": "code",
   "execution_count": null,
   "metadata": {
    "deletable": false,
    "editable": false
   },
   "outputs": [],
   "source": [
    "# Initialize Otter\n",
    "import otter\n",
    "grader = otter.Notebook(\"lab2.ipynb\")"
   ]
  },
  {
   "cell_type": "code",
   "execution_count": null,
   "metadata": {},
   "outputs": [],
   "source": [
    "from hashlib import sha1"
   ]
  },
  {
   "cell_type": "markdown",
   "metadata": {},
   "source": [
    "# DSCI 521 - Lab 2"
   ]
  },
  {
   "cell_type": "markdown",
   "metadata": {},
   "source": [
    "### Submission Instructions\n",
    "rubric={mechanics:2}\n",
    " \n",
    "<br> You will receive two marks for submitting your lab correctly, please follow these instructions: <br>    \n",
    "\n",
    "- [Follow the general lab instructions](https://ubc-mds.github.io/resources_pages/general_lab_instructions/).<br>\n",
    "- [Click here to view a description of the rubrics used to grade the questions](https://github.com/UBC-MDS/public/tree/master/rubric).\n",
    "- Push your `.ipynb` file to your GitHub repository for this lab.<br>\n",
    "- Submit your `.ipynb` file to Gradescope.\n",
    "- Render the `.ipynb` into `.pdf`. \n",
    "- Submit your `.pdf` file to Gradescope. \n",
    "- Include a clickable link to your GitHub repo for the lab just below this cell (it should look something like this https://github.ubc.ca/MDS-2021-22/DSCI_521_labX_yourcwl. \n"
   ]
  },
  {
   "cell_type": "markdown",
   "metadata": {},
   "source": [
    "YOUR LAB GITHUB REPO LINK GOES HERE "
   ]
  },
  {
   "cell_type": "raw",
   "metadata": {},
   "source": []
  },
  {
   "cell_type": "markdown",
   "metadata": {},
   "source": [
    "YOUR WEBSITE REPO LINK GOES HERE (more on this at the end of lab)"
   ]
  },
  {
   "cell_type": "raw",
   "metadata": {},
   "source": []
  },
  {
   "cell_type": "markdown",
   "metadata": {},
   "source": [
    "In this lab, you'll build on the Git and GitHub skills you learned last week. We will use your homework repository as the example Git repository.\n",
    "\n",
    "By the time you complete this assignment, you should have made at least three commits, as required. To avoid losing your progress on `lab2.ipynb`, make sure to commit your work regularly so that it can always be recovered in case something goes wrong with the repository."
   ]
  },
  {
   "cell_type": "markdown",
   "metadata": {},
   "source": [
    "## 1. Preparing the git repository"
   ]
  },
  {
   "cell_type": "markdown",
   "metadata": {
    "deletable": false,
    "editable": false
   },
   "source": [
    "### Question 1.1\n",
    "rubric={mechanics:4}\n",
    "\n",
    "1. `clone` down your `lab2`repository so we can start the lab and make a few changes to it.\n",
    "2. edit the readme file at the end of the file 3 times and make 3 separate commits:\n",
    "    - commit 1: list your favorite foods\n",
    "    - commit 2: like what you like to do in your free time\n",
    "    - commit 3: list one thing you learned in any of yoru MDS classes so far\n",
    "\n",
    "The text you added to the README.md file may look something like this (do not remove existing text in there)\n",
    "\n",
    "```\n",
    "- Favorite food: pizza\n",
    "- Free time: running\n",
    "- Learned: Scripts and automation means you either do the same thing correctly 130 times, or incorrectly 130 times\n",
    "```\n",
    "\n",
    "3. Push your changes back up to your `lab2` github repository.\n",
    "   - You should've now finished your 3 commits lab mechanics for this assignment\n",
    "   - Remember to put the URL of your repository at the top of this lab"
   ]
  },
  {
   "cell_type": "markdown",
   "metadata": {},
   "source": [
    "## 2. Visualizing your Git history"
   ]
  },
  {
   "cell_type": "markdown",
   "metadata": {
    "deletable": false,
    "editable": false
   },
   "source": [
    "<!-- BEGIN QUESTION -->\n",
    "\n",
    "### Question 2.1\n",
    "rubric={reasoning:4.5}\n",
    "\n",
    "Go back to the repository.\n",
    "\n",
    "4. Display your full commit log (there should be at least three commits now: the initial one plus your changes) with *one line* per commit and the *parts*/*patches* of changed code visible.<br>\n",
    "    - Hint: You will need to use two optional arguments (also called flags) to display the log in the correct format.\n",
    "      Watch the lecture or read the Git help/man pages to find out which flags to use.<br>\n",
    "5. Copy both the log command you ran and its output, then paste it in your solution below as a fenced code block\n",
    "   (check out [this Markdown guide](https://www.markdownguide.org/extended-syntax/) if you don't remember what this is)\n",
    "   with the appropriate language tag for syntax highlighting.<br>\n",
    "   - Even if you can't figure out how to display the code in the correct format, paste what you have below to receive marks for tasks 1-3 in this question.\n"
   ]
  },
  {
   "cell_type": "raw",
   "metadata": {
    "deletable": false,
    "editable": false
   },
   "source": []
  },
  {
   "cell_type": "markdown",
   "metadata": {},
   "source": [
    "_Type your answer here, replacing this text._"
   ]
  },
  {
   "cell_type": "markdown",
   "metadata": {
    "deletable": false,
    "editable": false,
    "nbgrader": {
     "grade": false,
     "grade_id": "cell-6c7787b6dc9f3e79",
     "locked": true,
     "schema_version": 3,
     "solution": false
    }
   },
   "source": [
    "<!-- END QUESTION -->\n",
    "\n",
    "### Question 2.2\n",
    "rubric={reasoning:2}\n",
    "\n",
    "**Select ALL the correct answers**\n",
    "\n",
    "How could you make this same comparison between commits using `git diff` from the command line https://github.com/UBC-MDS/equine_numbers_value_canada/compare/1bb5ab8..9021b83?\n",
    "\n",
    "A. `git diff 9021b83`  \n",
    "B. `git diff 1bb5ab8`  \n",
    "C. `git diff 1bb5ab8 9021b83`  \n",
    "D. Both the first and third options are correct  \n",
    "E. Both the second and third options are correct  \n",
    "\n",
    "Answer (fill in the letter):  \n",
    "`answer_22 = \"\"`"
   ]
  },
  {
   "cell_type": "code",
   "execution_count": null,
   "metadata": {
    "nbgrader": {
     "grade": true,
     "grade_id": "cell-46e9aef1a3bc6885",
     "locked": false,
     "points": 0,
     "schema_version": 3,
     "solution": true
    },
    "tags": []
   },
   "outputs": [],
   "source": [
    "...\n",
    "\n",
    "answer_22\n",
    "\n"
   ]
  },
  {
   "cell_type": "code",
   "execution_count": null,
   "metadata": {
    "deletable": false,
    "editable": false
   },
   "outputs": [],
   "source": [
    "grader.check(\"q22\")"
   ]
  },
  {
   "cell_type": "markdown",
   "metadata": {
    "deletable": false,
    "editable": false
   },
   "source": [
    "<!-- BEGIN QUESTION -->\n",
    "\n",
    "### Question 2.3\n",
    "rubric={reasoning:2}\n",
    "\n",
    "![](imgs/example-github-history.png)\n",
    "    \n",
    "After reviewing the differences between the commits, you decide that you want to undo the commit `61d0f0a`. Since you are collaborating with colleagues who have also cloned the repository and are working on their own local changes, you need to return the repository to the previous commit without disrupting their workflow.\n",
    "\n",
    "Which of the following options would you prefer in this context, and why?\n",
    "\n",
    "A. `git reset --hard 61d0f0a`  \n",
    "B. `git reset --soft 61d0f0a`  \n",
    "C. `git revert 61d0f0a`  \n",
    "\n",
    "Written answer (include reasoning)"
   ]
  },
  {
   "cell_type": "markdown",
   "metadata": {},
   "source": [
    "_Type your answer here, replacing this text._"
   ]
  },
  {
   "cell_type": "markdown",
   "metadata": {
    "deletable": false,
    "editable": false
   },
   "source": [
    "<!-- END QUESTION -->\n",
    "\n",
    "## 3. Merge conflicts"
   ]
  },
  {
   "cell_type": "markdown",
   "metadata": {
    "deletable": false,
    "editable": false
   },
   "source": [
    "### Question 3.1\n",
    "rubric={autograder:2}\n",
    "\n",
    "You are working with some colleagues on a project. After pulling the latest changes, you realize that there is a merge conflict in the repository. You type `code .` to open [answer_31a] and fix the problem.\n",
    "\n",
    "options: VS Code - JupyterLab - GitHub - the command line - RStudio\n",
    "\n",
    "This is what you see:\n",
    "    \n",
    "![](imgs/merge-conflict.png)\n",
    "\n",
    "- You decide to [answer_31b] to resolve the conflict. After selecting this option, you save the file, then add the changes to the staging area and commit them.\n",
    "\n",
    "options: accept current change - accept incoming change - accept both changes\n",
    "\n",
    "- Before pushing, you decide to create a second commit to modify the `.gitignore` file by adding a line to exclude large images related to the project. All images start with the word `image` followed by a code, such as `image_0943534.png`. You will add the following line to the `.gitignore` file: [answer_31c].\n",
    "\n",
    "options: `image*` - `*png` - `image_0943534.png`\n",
    "\n",
    "- Since you never want to include the `.ipynb_checkpoints` file (which appears when using Jupyter Notebook), you decide to ignore it for all your projects by adding it to the [answer_31d] file.\n",
    "\n",
    "options: `.gitignore_global` - `.gitignore` - `.git`\n",
    "\n",
    "Answer (fill in the answer):  \n",
    "answer_31a = \"\"\n",
    "answer_31b = \"\"\n",
    "answer_31c = \"\"\n",
    "answer_31d = \"\""
   ]
  },
  {
   "cell_type": "code",
   "execution_count": null,
   "metadata": {
    "tags": [
     "solution"
    ]
   },
   "outputs": [],
   "source": [
    "...\n",
    "\n",
    "answer_31a\n",
    "answer_31b\n",
    "answer_31c\n",
    "answer_31d \n"
   ]
  },
  {
   "cell_type": "code",
   "execution_count": null,
   "metadata": {
    "deletable": false,
    "editable": false
   },
   "outputs": [],
   "source": [
    "grader.check(\"q31\")"
   ]
  },
  {
   "cell_type": "markdown",
   "metadata": {
    "deletable": false,
    "editable": false
   },
   "source": [
    "<!-- BEGIN QUESTION -->\n",
    "\n",
    "<div class=\"alert alert-info\" style=\"color:black\">\n",
    "    \n",
    "### Question 3.2\n",
    "{challenging question}\n",
    "\n",
    "In your own words and in 3-4 sentences, describe the command `git stash` explaining when it is helpful to avoid merge conflicts. \n"
   ]
  },
  {
   "cell_type": "markdown",
   "metadata": {},
   "source": [
    "_Type your answer here, replacing this text._"
   ]
  },
  {
   "cell_type": "markdown",
   "metadata": {
    "deletable": false,
    "editable": false
   },
   "source": [
    "<!-- END QUESTION -->\n",
    "\n",
    "<!-- BEGIN QUESTION -->\n",
    "\n",
    "### Question 3.2\n",
    "rubric={reasoning:1}\n",
    "\n",
    "<p>Create a <code>.gitignore_global</code> file by following \n",
    "   <a href=\"https://docs.github.com/en/free-pro-team@latest/github/using-git/ignoring-files#configuring-ignored-files-for-all-repositories-on-your-computer\">\n",
    "   the instructions in the GitHub documentation under \"Configuring ignored files for all repositories on your computer\".</a></p>\n",
    "    \n",
    "<p>The rules in this file will be applied to all your repositories, so only include files that you always want to ignore. For now, ignore the following files/folders: <code>.ipynb_checkpoints</code>, <code>.Rhistory</code>, and <code>__pycache__</code>. If you're on macOS, it's also a good idea to ignore <code>.DS_Store</code> everywhere. Write the rules for these files in the cell below as your answer to this question.</p>\n",
    "\n",
    "<p>If you want to ignore more files, feel free to <a href=\"https://github.com/github/gitignore\">refer to the gitignore repository for recommendations.</a></p>\n"
   ]
  },
  {
   "cell_type": "markdown",
   "metadata": {},
   "source": [
    "YOUR ANSWER GOES HERE"
   ]
  },
  {
   "cell_type": "markdown",
   "metadata": {
    "deletable": false,
    "editable": false
   },
   "source": [
    "<!-- END QUESTION -->\n",
    "\n",
    "<!-- BEGIN QUESTION -->\n",
    "\n",
    "### Question 3.3\n",
    "rubric={mechanics:5}\n",
    "\n",
    "Create conflicting changes to your lab assignment `README.md`.\n",
    "\n",
    "#### 3.3.1 In the GitHub repository:\n",
    "\n",
    "- Make sure your commits from Question 1 are pushed to the remote GitHub repository.\n",
    "    - This question will not work if your changes are not already pushed.\n",
    "    - If you complete these steps out of order, you will need to re-create 3 separate commits for this example.\n",
    "  \n",
    "- Make a change to the `README.md` file by adding markdown `h2` headers (using `##`) to the 3 sections.\n",
    "\n",
    "\n",
    " For example, the sections would look something like this:\n",
    "\n",
    " ```\n",
    "## Favorite Food\n",
    "\n",
    "pizza\n",
    "\n",
    "## Free time\n",
    "\n",
    "running\n",
    "\n",
    "## Learned\n",
    "\n",
    "Scripts and automation means you either do the same thing correctly 130 times, or incorrectly 130 times\n",
    "```\n",
    "\n",
    "#### 3.3.2 In your local repository\n",
    "\n",
    "**DO NOT PULL YOUR CHANGES**\n",
    "\n",
    "In a separate set of commits, turn the block of text you initially added to the README.md file into regular prose.\n",
    "\n",
    " For example, the sections would look something like this:\n",
    "\n",
    " ```\n",
    "My favorite food is pizza.\n",
    "I like to run in my free time.\n",
    "I learned that scripts and automation means you either do the same thing correctly 130 times, or incorrectly 130 times.\n",
    "```\n",
    "\n",
    "#### 3.3.3 In your local repository\n",
    "\n",
    "- Push your local changes to the GitHub remote. This will trigger a message that your push is blocked.\n",
    "- Incorporate the changes from the remote GitHub repository, fix the conflicts, and push your changes to the GitHub remote.\n",
    "    - You can keep the header format, the prose format, or any combination of the two.\n",
    "- Push your changes to the remote GitHub repository once you have resolved the conflict.\n",
    " \n",
    "#### Post your log for the lab\n",
    "\n",
    "Just like earlier in the lab, submit your one line log with changes in each commit in the space below.\n"
   ]
  },
  {
   "cell_type": "markdown",
   "metadata": {},
   "source": [
    "YOUR ANSWER GOES HERE"
   ]
  },
  {
   "cell_type": "markdown",
   "metadata": {
    "deletable": false,
    "editable": false
   },
   "source": [
    "<!-- END QUESTION -->\n",
    "\n",
    "<!-- BEGIN QUESTION -->\n",
    "\n",
    "### 4. Quarto Websites\n",
    "rubric={mechanics:5}\n",
    "\n",
    "In this part of the lab, we'll run terminal commands in a GitHub repository to build a website using Quarto.\n",
    "\n",
    "We will then use the existing GitHub infrastructure to publish this website online. You will make a small edit to the base template and can use this as a starting point to build out your professional data science presence.\n",
    "\n",
    "#### Recommended order of tasks\n",
    "\n",
    "The goal is to have a GitHub repository with a rendered Quarto website. You can either choose to create everything locally first (e.g., `git init`) or create the repository first and then bring it to your computer (e.g., `git clone`). While there are differences between these methods, the final result will be the same.\n",
    "\n",
    "1. Create a GitHub repository (on public GitHub, not enterprise) following this pattern: `USERNAME.github.io`, replacing `USERNAME` with your actual GitHub username.\n",
    "2. Pre-populate it with a `README.md` file and a Creative Commons license. You can also choose a pre-made `.gitignore` file, though this won't be critical for this lab section.\n",
    "3. Clone the GitHub repository to your local computer.\n",
    "\n",
    "#### Build and publish the Quarto website\n",
    "\n",
    "1. Follow the Quarto Website Docs to create and build your website: https://quarto.org/docs/websites/\n",
    "2. Push all the relevant files to the GitHub repository.\n",
    "3. Have GitHub render the default template website.\n",
    "4. Make a change to the template website:\n",
    "    - Introduce yourself to the world. You can do this on the main homepage or in a dedicated \"About\" page.\n",
    "  \n",
    "#### Link the website to us\n"
   ]
  },
  {
   "cell_type": "markdown",
   "metadata": {
    "deletable": false,
    "editable": false
   },
   "source": [
    "- At the top of the lab provide 2 links:\n",
    "    - The github repository where your website code is hosted\n",
    "    - The rendered website"
   ]
  },
  {
   "cell_type": "markdown",
   "metadata": {
    "deletable": false,
    "editable": false
   },
   "source": [
    "<!-- END QUESTION -->\n",
    "\n",
    "# Submission \n",
    "\n",
    "When you are ready to submit your assignment do the following:\n",
    "\n",
    "1. Run all cells in your notebook to make sure there are no errors by doing `Kernel -> Restart Kernel and Run All Cells...`\n",
    "2. Enter Canvas and upload the assignment (both `.ipynb` and `.pdf`)using Gradescope's drag and drop tool.\n",
    "3. Don't forget to also commit 3 times and push your work to GitHub.\n",
    "\n",
    "Remember that you will find a detailed set of instructions including videos on [Canvas](https://canvas.ubc.ca/courses/102033)."
   ]
  }
 ],
 "metadata": {
  "kernelspec": {
   "display_name": "Python 3 (ipykernel)",
   "language": "python",
   "name": "python3"
  },
  "language_info": {
   "codemirror_mode": {
    "name": "ipython",
    "version": 3
   },
   "file_extension": ".py",
   "mimetype": "text/x-python",
   "name": "python",
   "nbconvert_exporter": "python",
   "pygments_lexer": "ipython3",
   "version": "3.12.5"
  },
  "otter": {
   "OK_FORMAT": true,
   "tests": {
    "q22": {
     "name": "q22",
     "points": 1,
     "suites": [
      {
       "cases": [
        {
         "code": ">>> assert sha1(str(answer_22).encode('utf8')).hexdigest() == 'e0184adedf913b076626646d3f52c3b49c39ad6d', 'Incorrect answer, try again!'\n",
         "hidden": false,
         "locked": false
        }
       ],
       "scored": true,
       "setup": "",
       "teardown": "",
       "type": "doctest"
      }
     ]
    },
    "q31": {
     "name": "q31",
     "points": 2,
     "suites": [
      {
       "cases": [
        {
         "code": ">>> assert sha1(str(answer_31a).encode('utf8')).hexdigest() == '64edc3e61e990b31989c7a5ea4bb286a02499b5a', 'Incorrect answer, try again!'\n",
         "hidden": false,
         "locked": false
        },
        {
         "code": ">>> assert sha1(str(answer_31b).encode('utf8')).hexdigest() == 'a9bf0530e98e3ed089f9b90b222ea0f5b915f3b6', 'Incorrect answer, try again!'\n",
         "hidden": false,
         "locked": false
        },
        {
         "code": ">>> assert sha1(str(answer_31c).encode('utf8')).hexdigest() == '13cf0bf71ac2dd6ccc1191ca2aa98b548b3c83a8', 'Incorrect answer, try again!'\n",
         "hidden": false,
         "locked": false
        },
        {
         "code": ">>> assert sha1(str(answer_31d).encode('utf8')).hexdigest() == '6d126edb35207ce365433d6127511d78419b5b5b', 'Incorrect answer, try again!'\n",
         "hidden": false,
         "locked": false
        }
       ],
       "scored": true,
       "setup": "",
       "teardown": "",
       "type": "doctest"
      }
     ]
    }
   }
  },
  "vscode": {
   "interpreter": {
    "hash": "3d597f4c481aa0f25dceb95d2a0067e73c0966dcbd003d741d821a7208527ecf"
   }
  }
 },
 "nbformat": 4,
 "nbformat_minor": 4
}
